{
 "cells": [
  {
   "cell_type": "code",
   "execution_count": 11,
   "metadata": {},
   "outputs": [],
   "source": [
    "import streamlit as st\n",
    "import pandas as pd\n",
    "import plotly.express as px\n",
    "import plotly.graph_objects as go\n",
    "from qcodes import load_by_id   # QCoDeS新版使用 load_by_id 載入實驗數據\n",
    "import sqlite3\n",
    "from time import sleep\n",
    "\n",
    "from qcodes.dataset import initialise_database, load_or_create_experiment\n",
    "from qcodes.dataset.data_set import load_by_id\n",
    "import qcodes\n",
    "\n",
    "# 設定 QCoDeS 資料庫路徑，讓 QCoDeS 使用正確的 db 檔案\n",
    "QCODES_DB_PATH = \"020-1Shankar_2024-09-15_01.db\"\n",
    "qcodes.config.core.db_location = QCODES_DB_PATH"
   ]
  },
  {
   "cell_type": "code",
   "execution_count": 16,
   "metadata": {},
   "outputs": [
    {
     "data": {
      "text/plain": [
       "results #22@/Users/albert-mac/Code/GitHub/QCoDeSStreamlit/020-1Shankar_2024-09-15_01.db\n",
       "---------------------------------------------------------------------------------------\n",
       "x_field - numeric\n",
       "appl_current - numeric\n",
       "meas_voltage_K1 - numeric"
      ]
     },
     "execution_count": 16,
     "metadata": {},
     "output_type": "execute_result"
    }
   ],
   "source": [
    "qcodes.load_by_id(22)"
   ]
  },
  {
   "cell_type": "code",
   "execution_count": 17,
   "metadata": {},
   "outputs": [
    {
     "data": {
      "text/plain": [
       "array([-0.00106994, -0.00105566, -0.00104141, ...,  0.00104169,\n",
       "        0.00105593,  0.00107026])"
      ]
     },
     "execution_count": 17,
     "metadata": {},
     "output_type": "execute_result"
    }
   ],
   "source": [
    "load_by_id(22).get_parameter_data()['meas_voltage_K1']['meas_voltage_K1']"
   ]
  },
  {
   "cell_type": "code",
   "execution_count": 18,
   "metadata": {},
   "outputs": [
    {
     "data": {
      "text/plain": [
       "array([-1.00000000e-06, -9.86666667e-07, -9.73333333e-07, ...,\n",
       "        9.73333333e-07,  9.86666667e-07,  1.00000000e-06])"
      ]
     },
     "execution_count": 18,
     "metadata": {},
     "output_type": "execute_result"
    }
   ],
   "source": [
    "load_by_id(22).get_parameter_data()['meas_voltage_K1']['appl_current']"
   ]
  },
  {
   "cell_type": "code",
   "execution_count": 19,
   "metadata": {},
   "outputs": [
    {
     "data": {
      "text/plain": [
       "array([0.   , 0.   , 0.   , ..., 0.003, 0.003, 0.003])"
      ]
     },
     "execution_count": 19,
     "metadata": {},
     "output_type": "execute_result"
    }
   ],
   "source": [
    "load_by_id(22).get_parameter_data()['meas_voltage_K1']['x_field']"
   ]
  },
  {
   "cell_type": "code",
   "execution_count": null,
   "metadata": {},
   "outputs": [],
   "source": []
  }
 ],
 "metadata": {
  "kernelspec": {
   "display_name": "py3.11",
   "language": "python",
   "name": "python3"
  },
  "language_info": {
   "codemirror_mode": {
    "name": "ipython",
    "version": 3
   },
   "file_extension": ".py",
   "mimetype": "text/x-python",
   "name": "python",
   "nbconvert_exporter": "python",
   "pygments_lexer": "ipython3",
   "version": "3.11.8"
  }
 },
 "nbformat": 4,
 "nbformat_minor": 2
}
