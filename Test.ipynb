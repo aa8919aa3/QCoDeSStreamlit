{
 "cells": [
  {
   "cell_type": "code",
   "execution_count": 1,
   "metadata": {},
   "outputs": [],
   "source": [
    "import streamlit as st\n",
    "import pandas as pd\n",
    "import plotly.express as px\n",
    "import plotly.graph_objects as go\n",
    "from qcodes import load_by_id   # QCoDeS新版使用 load_by_id 載入實驗數據\n",
    "import sqlite3\n",
    "from time import sleep\n",
    "\n",
    "from qcodes.dataset import initialise_database, load_or_create_experiment\n",
    "from qcodes.dataset.data_set import load_by_id\n",
    "import qcodes\n",
    "\n",
    "# 設定 QCoDeS 資料庫路徑，讓 QCoDeS 使用正確的 db 檔案\n",
    "QCODES_DB_PATH = \"/Users/albert-mac/Code/GitHub/QCoDeSStreamlit/018_2025-02-26_01.db\"\n",
    "qcodes.config.core.db_location = QCODES_DB_PATH"
   ]
  },
  {
   "cell_type": "code",
   "execution_count": 2,
   "metadata": {},
   "outputs": [
    {
     "data": {
      "text/plain": [
       "results #1@/Users/albert-mac/Code/GitHub/QCoDeSStreamlit/018_2025-02-26_01.db\n",
       "-----------------------------------------------------------------------------\n",
       "appl_current - numeric\n",
       "meas_voltage_K2 - numeric"
      ]
     },
     "execution_count": 2,
     "metadata": {},
     "output_type": "execute_result"
    }
   ],
   "source": [
    "qcodes.load_by_id(1)"
   ]
  },
  {
   "cell_type": "code",
   "execution_count": 9,
   "metadata": {},
   "outputs": [
    {
     "data": {
      "text/plain": [
       "array([-0.00404755, -0.00401758, -0.00405052, -0.00401326, -0.00405151,\n",
       "       -0.0040561 , -0.00403946, -0.0040215 , -0.00404505, -0.00403136,\n",
       "       -0.00404968, -0.00405018, -0.00404742, -0.00401256, -0.0040717 ,\n",
       "       -0.00403569, -0.00404791, -0.00400612, -0.00404183, -0.00404884,\n",
       "       -0.00404397, -0.00403752, -0.00405736, -0.00405132, -0.00403549,\n",
       "       -0.00408665, -0.00404998, -0.00406653, -0.0040292 , -0.00403196,\n",
       "       -0.00401731, -0.00404385, -0.00401936, -0.00403359, -0.00402571,\n",
       "       -0.00401911, -0.00401833, -0.00404694, -0.00403732, -0.00403111,\n",
       "       -0.00405755, -0.00403518, -0.00403652, -0.00404385, -0.00404454,\n",
       "       -0.00403535, -0.00404115, -0.00403579, -0.00405273, -0.00402414,\n",
       "       -0.0040328 , -0.0040386 , -0.004033  , -0.00404567, -0.00405746,\n",
       "       -0.00404613, -0.00406834, -0.00403215, -0.00406139, -0.00402762,\n",
       "       -0.00404339, -0.00402984, -0.00399345, -0.0040303 , -0.00400865,\n",
       "       -0.00403714, -0.00403261, -0.00403217, -0.00404211, -0.00405261,\n",
       "       -0.00403172, -0.00402651, -0.00407005, -0.00404615, -0.00402956,\n",
       "       -0.00404361, -0.0040141 , -0.00402485, -0.00404267, -0.0040425 ,\n",
       "       -0.00403201, -0.00400847, -0.00402597, -0.00402284, -0.00404462,\n",
       "       -0.00406478, -0.00404097, -0.00402772, -0.0040294 , -0.00405363,\n",
       "       -0.00401835, -0.00404218, -0.00399183, -0.00401082, -0.0040513 ,\n",
       "       -0.00403411, -0.00402776, -0.00404404, -0.00401071, -0.00405319,\n",
       "       -0.00402308])"
      ]
     },
     "execution_count": 9,
     "metadata": {},
     "output_type": "execute_result"
    }
   ],
   "source": [
    "load_by_id(1).get_parameter_data()['meas_voltage_K2']['meas_voltage_K2']"
   ]
  },
  {
   "cell_type": "code",
   "execution_count": 10,
   "metadata": {},
   "outputs": [
    {
     "data": {
      "text/plain": [
       "array([-1.0e-06, -9.8e-07, -9.6e-07, -9.4e-07, -9.2e-07, -9.0e-07,\n",
       "       -8.8e-07, -8.6e-07, -8.4e-07, -8.2e-07, -8.0e-07, -7.8e-07,\n",
       "       -7.6e-07, -7.4e-07, -7.2e-07, -7.0e-07, -6.8e-07, -6.6e-07,\n",
       "       -6.4e-07, -6.2e-07, -6.0e-07, -5.8e-07, -5.6e-07, -5.4e-07,\n",
       "       -5.2e-07, -5.0e-07, -4.8e-07, -4.6e-07, -4.4e-07, -4.2e-07,\n",
       "       -4.0e-07, -3.8e-07, -3.6e-07, -3.4e-07, -3.2e-07, -3.0e-07,\n",
       "       -2.8e-07, -2.6e-07, -2.4e-07, -2.2e-07, -2.0e-07, -1.8e-07,\n",
       "       -1.6e-07, -1.4e-07, -1.2e-07, -1.0e-07, -8.0e-08, -6.0e-08,\n",
       "       -4.0e-08, -2.0e-08,  0.0e+00,  2.0e-08,  4.0e-08,  6.0e-08,\n",
       "        8.0e-08,  1.0e-07,  1.2e-07,  1.4e-07,  1.6e-07,  1.8e-07,\n",
       "        2.0e-07,  2.2e-07,  2.4e-07,  2.6e-07,  2.8e-07,  3.0e-07,\n",
       "        3.2e-07,  3.4e-07,  3.6e-07,  3.8e-07,  4.0e-07,  4.2e-07,\n",
       "        4.4e-07,  4.6e-07,  4.8e-07,  5.0e-07,  5.2e-07,  5.4e-07,\n",
       "        5.6e-07,  5.8e-07,  6.0e-07,  6.2e-07,  6.4e-07,  6.6e-07,\n",
       "        6.8e-07,  7.0e-07,  7.2e-07,  7.4e-07,  7.6e-07,  7.8e-07,\n",
       "        8.0e-07,  8.2e-07,  8.4e-07,  8.6e-07,  8.8e-07,  9.0e-07,\n",
       "        9.2e-07,  9.4e-07,  9.6e-07,  9.8e-07,  1.0e-06])"
      ]
     },
     "execution_count": 10,
     "metadata": {},
     "output_type": "execute_result"
    }
   ],
   "source": [
    "load_by_id(1).get_parameter_data()['meas_voltage_K2']['appl_current']"
   ]
  },
  {
   "cell_type": "code",
   "execution_count": null,
   "metadata": {},
   "outputs": [],
   "source": []
  }
 ],
 "metadata": {
  "kernelspec": {
   "display_name": "py3.11",
   "language": "python",
   "name": "python3"
  },
  "language_info": {
   "codemirror_mode": {
    "name": "ipython",
    "version": 3
   },
   "file_extension": ".py",
   "mimetype": "text/x-python",
   "name": "python",
   "nbconvert_exporter": "python",
   "pygments_lexer": "ipython3",
   "version": "3.11.8"
  }
 },
 "nbformat": 4,
 "nbformat_minor": 2
}
